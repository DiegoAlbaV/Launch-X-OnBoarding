{
 "cells": [
  {
   "cell_type": "markdown",
   "metadata": {},
   "source": [
    "# Kata 5 operadores aritméticos"
   ]
  },
  {
   "cell_type": "markdown",
   "metadata": {},
   "source": [
    "    Ejercicio 1:\n",
    "    \n",
    "    *Un programa que pueda calcular la distancia entre dos planetas. Comenzaremos usando dos distancias de planetas: Tierra (149.597.870 km) y Júpiter (778.547.200 km).\n"
   ]
  },
  {
   "cell_type": "code",
   "execution_count": 11,
   "metadata": {},
   "outputs": [
    {
     "name": "stdout",
     "output_type": "stream",
     "text": [
      "La distancia entre los planetas es de:  628949330 Metros\n",
      "La distancia entre los planetas es de:  390577533.93 Millas\n"
     ]
    }
   ],
   "source": [
    "Tierra = 149597870\n",
    "Jpiter = 778547200\n",
    "Distancia_Metros= Jpiter -  Tierra\n",
    "print(\"La distancia entre los planetas es de: \", Distancia_Metros, 'Metros')\n",
    "\n",
    "Distancia_Millas= Distancia_Metros*0.621\n",
    "print(\"La distancia entre los planetas es de: \", Distancia_Millas, 'Millas' )"
   ]
  },
  {
   "cell_type": "markdown",
   "metadata": {},
   "source": [
    "Ejercicio 2, números y entradas de datos\n",
    "\n",
    "Queremos leer la distancia del sol para dos planetas, y luego mostrar la distancia entre los planetas"
   ]
  },
  {
   "cell_type": "code",
   "execution_count": 4,
   "metadata": {},
   "outputs": [],
   "source": [
    "Planeta1 = input('Distancia al sol para el Planeta 1')\n",
    "Planeta2 = input('Distancia al sol para el Planeta 2')"
   ]
  },
  {
   "cell_type": "markdown",
   "metadata": {},
   "source": [
    "Input los recibe como cadenas, hay que cambiarlo a número tipo int (entero)"
   ]
  },
  {
   "cell_type": "code",
   "execution_count": 5,
   "metadata": {},
   "outputs": [
    {
     "name": "stdout",
     "output_type": "stream",
     "text": [
      "2722900000\n"
     ]
    }
   ],
   "source": [
    "Planeta1 = int(Planeta1)\n",
    "Planeta2 = int(Planeta2)\n",
    "Distancia_KM = Planeta1 - Planeta2\n",
    "print(Distancia_KM)"
   ]
  },
  {
   "cell_type": "code",
   "execution_count": 6,
   "metadata": {},
   "outputs": [
    {
     "name": "stdout",
     "output_type": "stream",
     "text": [
      "2722900000\n"
     ]
    }
   ],
   "source": [
    "Distancia_MI = Distancia_KM * 0.621\n",
    "print(Distancia_KM)"
   ]
  }
 ],
 "metadata": {
  "interpreter": {
   "hash": "37b29bf59fc0320b62cc459e2cf630950a18bf355d6cafdb9bd35042fe460525"
  },
  "kernelspec": {
   "display_name": "Python 3.10.2 64-bit",
   "language": "python",
   "name": "python3"
  },
  "language_info": {
   "codemirror_mode": {
    "name": "ipython",
    "version": 3
   },
   "file_extension": ".py",
   "mimetype": "text/x-python",
   "name": "python",
   "nbconvert_exporter": "python",
   "pygments_lexer": "ipython3",
   "version": "3.10.2"
  },
  "orig_nbformat": 4
 },
 "nbformat": 4,
 "nbformat_minor": 2
}
