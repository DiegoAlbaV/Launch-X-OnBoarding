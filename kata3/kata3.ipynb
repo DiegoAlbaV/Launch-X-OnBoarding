{
 "cells": [
  {
   "cell_type": "markdown",
   "metadata": {},
   "source": [
    "# Lógica Booleana\n"
   ]
  },
  {
   "cell_type": "markdown",
   "metadata": {},
   "source": [
    "Ejercicio 1:\n",
    "Añadir el código necesario para crear una variable que guarde la velocidad del asteroide.\n",
    "\n",
    "Escribe una expresión de prueba para calcular si necesita una advertencia.\n",
    "\n",
    "Agregue las instrucciones que se ejecutarán si la expresión de prueba es true o false.\n"
   ]
  },
  {
   "cell_type": "code",
   "execution_count": 26,
   "metadata": {},
   "outputs": [
    {
     "name": "stdout",
     "output_type": "stream",
     "text": [
      "La velocidad del asteroide es de: \n",
      "26\n",
      "km/s.\n",
      "¡Alerta! ¡Un asteroide se acerca a velocidades peligrosas!\n"
     ]
    }
   ],
   "source": [
    "from random import seed\n",
    "from random import randint\n",
    "asteroide = randint(20, 30)\n",
    "print('La velocidad del asteroide es de: ')\n",
    "print(asteroide)\n",
    "print('km/s.')\n",
    "\n",
    "if asteroide > 25:\n",
    "    print('¡Alerta! ¡Un asteroide se acerca a velocidades peligrosas!')\n",
    "else:\n",
    "    print('¡Sigue con tu día!')"
   ]
  },
  {
   "cell_type": "markdown",
   "metadata": {},
   "source": [
    "Ejercicio 2:\n",
    "Agrega el código para crear una variable para un asteroide que viaja a 19 km/s\n",
    "\n",
    "Escribe varias expresiones de prueba para determinar si puedes ver el rayo de luz desde la tierra\n",
    "\n",
    "Agrega las instrucciones que se ejecutarán si las expresiones de prueba son True o False"
   ]
  },
  {
   "cell_type": "code",
   "execution_count": 27,
   "metadata": {},
   "outputs": [
    {
     "name": "stdout",
     "output_type": "stream",
     "text": [
      "La velocidad es menor a 20 y no se ve luz\n"
     ]
    }
   ],
   "source": [
    "asteroide = 19\n",
    "if asteroide > 20:\n",
    "    print ('Se puede ver el rayo de luz')\n",
    "elif asteroide == 20:\n",
    "    print('Se puede ver el rayo de luz')\n",
    "else:\n",
    "    print('La velocidad es menor a 20 y no se ve luz')"
   ]
  },
  {
   "cell_type": "markdown",
   "metadata": {},
   "source": [
    "Ejercicio 3:\n",
    "Agrega el código para crear nuevas variables para la velocidad y el tamaño del asteroide\n",
    "\n",
    "Para probar el código, prueba con varias velocidades y tamaños\n",
    "\n",
    "Escribe varias expresiones de prueba o combinaciones de expresiones de prueba para determinar qué mensaje se debe enviar a Tierra.\n",
    "\n",
    "\n",
    "*La velocidad del asteroide varía en función de lo cerca que esté del sol, y cualquier velocidad superior a 25 kilómetros por segundo (km/s) merece una advertencia.\n",
    "\n",
    "*Si un asteroide entra en la atmósfera de la Tierra a una velocidad mayor o igual a 20 km/s, a veces produce un rayo de luz que se puede ver desde la Tierra.\n",
    "\n",
    "*Si una pieza de un asteroide que es más grande que 25 metros pero más pequeña que 1000 metros golpeara la Tierra, causaría mucho daño.\n"
   ]
  },
  {
   "cell_type": "code",
   "execution_count": 36,
   "metadata": {},
   "outputs": [
    {
     "name": "stdout",
     "output_type": "stream",
     "text": [
      "Velocidad: \n",
      "27\n",
      "-------------------\n",
      "Tamaño: \n",
      "41\n",
      "Se acerca un asteroide de 2/2 alertas (Tamaño y Velocidad)\n"
     ]
    }
   ],
   "source": [
    "from random import seed\n",
    "from random import randint\n",
    "V_asteroide = randint(15, 30)\n",
    "T_asteroide = randint(20, 50)\n",
    "print('Velocidad: ')\n",
    "print(V_asteroide)\n",
    "print('-------------------')\n",
    "print('Tamaño: ')\n",
    "print(T_asteroide)\n",
    "if V_asteroide > 25 and T_asteroide > 25:\n",
    "    print('Se acerca un asteroide de 2/2 alertas (Tamaño y Velocidad)')\n",
    "elif V_asteroide >= 20:\n",
    "    print ('Se acerca un asteroide con luz')\n",
    "elif T_asteroide > 25:\n",
    "    print('Se acerca un asteroide de gran tamaño')\n",
    "elif T_asteroide < 25:\n",
    "    print('No hay alertas')\n",
    "else:\n",
    "    print('No hay alertas')"
   ]
  }
 ],
 "metadata": {
  "interpreter": {
   "hash": "37b29bf59fc0320b62cc459e2cf630950a18bf355d6cafdb9bd35042fe460525"
  },
  "kernelspec": {
   "display_name": "Python 3.10.2 64-bit",
   "language": "python",
   "name": "python3"
  },
  "language_info": {
   "codemirror_mode": {
    "name": "ipython",
    "version": 3
   },
   "file_extension": ".py",
   "mimetype": "text/x-python",
   "name": "python",
   "nbconvert_exporter": "python",
   "pygments_lexer": "ipython3",
   "version": "3.10.2"
  },
  "orig_nbformat": 4
 },
 "nbformat": 4,
 "nbformat_minor": 2
}
